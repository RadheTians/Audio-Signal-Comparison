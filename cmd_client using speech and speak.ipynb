{
 "cells": [
  {
   "cell_type": "code",
   "execution_count": null,
   "metadata": {},
   "outputs": [],
   "source": [
    "import socket\n",
    "import pyttsx3\n",
    "import  speech_recognition as sr"
   ]
  },
  {
   "cell_type": "code",
   "execution_count": null,
   "metadata": {},
   "outputs": [],
   "source": [
    "s =  socket.socket()"
   ]
  },
  {
   "cell_type": "code",
   "execution_count": null,
   "metadata": {},
   "outputs": [],
   "source": [
    "s.connect((\"192.168.0.104\" , 3333))"
   ]
  },
  {
   "cell_type": "code",
   "execution_count": null,
   "metadata": {},
   "outputs": [],
   "source": [
    "mic = sr.Microphone()\n",
    "rec = sr.Recognizer()"
   ]
  },
  {
   "cell_type": "code",
   "execution_count": null,
   "metadata": {},
   "outputs": [],
   "source": [
    "while True:\n",
    "    #data = input(\"enter your requirement : \")\n",
    "    with mic as source:\n",
    "        print(\"say : \")\n",
    "        audio = rec.listen(source)\n",
    "        data = rec.recognize_google(audio)\n",
    "        print(data)\n",
    "    if \"date\" in data and \"run\" in data:\n",
    "        s.send(\"date\".encode())\n",
    "        print(s.recv(1024))\n",
    "    elif \"calendar\" in data and \"show\" in data:\n",
    "        s.send(\"cal\".encode())\n",
    "        print(s.recv(1024))\n",
    "    else:\n",
    "        speaker = pyttsx3.init()\n",
    "        speaker.say(\"we dont support this\")\n",
    "        speaker.runAndWait()\n",
    "        print(\"we dont support this\")"
   ]
  },
  {
   "cell_type": "code",
   "execution_count": null,
   "metadata": {},
   "outputs": [],
   "source": []
  },
  {
   "cell_type": "code",
   "execution_count": null,
   "metadata": {},
   "outputs": [],
   "source": []
  },
  {
   "cell_type": "code",
   "execution_count": null,
   "metadata": {},
   "outputs": [],
   "source": []
  },
  {
   "cell_type": "code",
   "execution_count": null,
   "metadata": {},
   "outputs": [],
   "source": []
  }
 ],
 "metadata": {
  "kernelspec": {
   "display_name": "Python 3",
   "language": "python",
   "name": "python3"
  },
  "language_info": {
   "codemirror_mode": {
    "name": "ipython",
    "version": 3
   },
   "file_extension": ".py",
   "mimetype": "text/x-python",
   "name": "python",
   "nbconvert_exporter": "python",
   "pygments_lexer": "ipython3",
   "version": "3.7.0"
  }
 },
 "nbformat": 4,
 "nbformat_minor": 2
}
